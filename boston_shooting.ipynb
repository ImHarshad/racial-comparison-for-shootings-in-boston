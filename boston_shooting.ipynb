{
 "cells": [
  {
   "cell_type": "code",
   "execution_count": 194,
   "id": "c80a803a",
   "metadata": {},
   "outputs": [],
   "source": [
    "# Import libraries\n",
    "import pandas as pd\n",
    "import numpy as np\n",
    "import matplotlib.pyplot as plt"
   ]
  },
  {
   "cell_type": "markdown",
   "id": "76b52959",
   "metadata": {},
   "source": [
    "## Load Data"
   ]
  },
  {
   "cell_type": "markdown",
   "id": "7e9ebf2e",
   "metadata": {},
   "source": [
    "### Load CSV File"
   ]
  },
  {
   "cell_type": "code",
   "execution_count": 195,
   "id": "31f1d6e2",
   "metadata": {},
   "outputs": [
    {
     "data": {
      "text/html": [
       "<div>\n",
       "<style scoped>\n",
       "    .dataframe tbody tr th:only-of-type {\n",
       "        vertical-align: middle;\n",
       "    }\n",
       "\n",
       "    .dataframe tbody tr th {\n",
       "        vertical-align: top;\n",
       "    }\n",
       "\n",
       "    .dataframe thead th {\n",
       "        text-align: right;\n",
       "    }\n",
       "</style>\n",
       "<table border=\"1\" class=\"dataframe\">\n",
       "  <thead>\n",
       "    <tr style=\"text-align: right;\">\n",
       "      <th></th>\n",
       "      <th>Incident_Num</th>\n",
       "      <th>Shooting_Date</th>\n",
       "      <th>District</th>\n",
       "      <th>Shooting_Type_V2</th>\n",
       "      <th>Victim_Gender</th>\n",
       "      <th>Victim_Race</th>\n",
       "      <th>Victim_Ethnicity_NIBRS</th>\n",
       "      <th>Multi_Victim</th>\n",
       "    </tr>\n",
       "  </thead>\n",
       "  <tbody>\n",
       "    <tr>\n",
       "      <th>0</th>\n",
       "      <td>I152000196-00</td>\n",
       "      <td>2015-01-01 13:30:00</td>\n",
       "      <td>C11</td>\n",
       "      <td>Non-Fatal</td>\n",
       "      <td>Male</td>\n",
       "      <td>Black or African American</td>\n",
       "      <td>Not Hispanic or Latinx</td>\n",
       "      <td>f</td>\n",
       "    </tr>\n",
       "    <tr>\n",
       "      <th>1</th>\n",
       "      <td>I152000879-00</td>\n",
       "      <td>2015-01-04 01:58:00</td>\n",
       "      <td>E18</td>\n",
       "      <td>Non-Fatal</td>\n",
       "      <td>Male</td>\n",
       "      <td>Black or African American</td>\n",
       "      <td>Not Hispanic or Latinx</td>\n",
       "      <td>f</td>\n",
       "    </tr>\n",
       "    <tr>\n",
       "      <th>2</th>\n",
       "      <td>I152001014-00</td>\n",
       "      <td>2015-01-04 18:52:00</td>\n",
       "      <td>E5</td>\n",
       "      <td>Non-Fatal</td>\n",
       "      <td>Male</td>\n",
       "      <td>Black or African American</td>\n",
       "      <td>Not Hispanic or Latinx</td>\n",
       "      <td>f</td>\n",
       "    </tr>\n",
       "    <tr>\n",
       "      <th>3</th>\n",
       "      <td>I152002232-00</td>\n",
       "      <td>2015-01-08 22:45:00</td>\n",
       "      <td>B2</td>\n",
       "      <td>Non-Fatal</td>\n",
       "      <td>Male</td>\n",
       "      <td>Black or African American</td>\n",
       "      <td>Not Hispanic or Latinx</td>\n",
       "      <td>t</td>\n",
       "    </tr>\n",
       "    <tr>\n",
       "      <th>4</th>\n",
       "      <td>I152002233-00</td>\n",
       "      <td>2015-01-08 22:45:00</td>\n",
       "      <td>B2</td>\n",
       "      <td>Non-Fatal</td>\n",
       "      <td>Female</td>\n",
       "      <td>Black or African American</td>\n",
       "      <td>Not Hispanic or Latinx</td>\n",
       "      <td>t</td>\n",
       "    </tr>\n",
       "    <tr>\n",
       "      <th>...</th>\n",
       "      <td>...</td>\n",
       "      <td>...</td>\n",
       "      <td>...</td>\n",
       "      <td>...</td>\n",
       "      <td>...</td>\n",
       "      <td>...</td>\n",
       "      <td>...</td>\n",
       "      <td>...</td>\n",
       "    </tr>\n",
       "    <tr>\n",
       "      <th>1658</th>\n",
       "      <td>222043221</td>\n",
       "      <td>2022-06-12 21:27:00</td>\n",
       "      <td>B2</td>\n",
       "      <td>Fatal</td>\n",
       "      <td>Male</td>\n",
       "      <td>Black or African American</td>\n",
       "      <td>Not Hispanic or Latinx</td>\n",
       "      <td>f</td>\n",
       "    </tr>\n",
       "    <tr>\n",
       "      <th>1659</th>\n",
       "      <td>222042669</td>\n",
       "      <td>2022-06-10 22:46:00</td>\n",
       "      <td>C11</td>\n",
       "      <td>Non-Fatal</td>\n",
       "      <td>Male</td>\n",
       "      <td>Black or African American</td>\n",
       "      <td>Unknown</td>\n",
       "      <td>f</td>\n",
       "    </tr>\n",
       "    <tr>\n",
       "      <th>1660</th>\n",
       "      <td>222043262</td>\n",
       "      <td>2022-06-13 01:34:00</td>\n",
       "      <td>E13</td>\n",
       "      <td>Non-Fatal</td>\n",
       "      <td>Male</td>\n",
       "      <td>White</td>\n",
       "      <td>Hispanic or Latinx</td>\n",
       "      <td>f</td>\n",
       "    </tr>\n",
       "    <tr>\n",
       "      <th>1661</th>\n",
       "      <td>222045881</td>\n",
       "      <td>2022-06-21 18:34:00</td>\n",
       "      <td>B3</td>\n",
       "      <td>Non-Fatal</td>\n",
       "      <td>Male</td>\n",
       "      <td>Black or African American</td>\n",
       "      <td>Not Hispanic or Latinx</td>\n",
       "      <td>f</td>\n",
       "    </tr>\n",
       "    <tr>\n",
       "      <th>1662</th>\n",
       "      <td>222046251</td>\n",
       "      <td>2022-06-22 22:45:00</td>\n",
       "      <td>B2</td>\n",
       "      <td>Non-Fatal</td>\n",
       "      <td>Male</td>\n",
       "      <td>White</td>\n",
       "      <td>Hispanic or Latinx</td>\n",
       "      <td>f</td>\n",
       "    </tr>\n",
       "  </tbody>\n",
       "</table>\n",
       "<p>1663 rows × 8 columns</p>\n",
       "</div>"
      ],
      "text/plain": [
       "       Incident_Num        Shooting_Date District Shooting_Type_V2  \\\n",
       "0     I152000196-00  2015-01-01 13:30:00      C11        Non-Fatal   \n",
       "1     I152000879-00  2015-01-04 01:58:00      E18        Non-Fatal   \n",
       "2     I152001014-00  2015-01-04 18:52:00       E5        Non-Fatal   \n",
       "3     I152002232-00  2015-01-08 22:45:00       B2        Non-Fatal   \n",
       "4     I152002233-00  2015-01-08 22:45:00       B2        Non-Fatal   \n",
       "...             ...                  ...      ...              ...   \n",
       "1658      222043221  2022-06-12 21:27:00       B2            Fatal   \n",
       "1659      222042669  2022-06-10 22:46:00      C11        Non-Fatal   \n",
       "1660      222043262  2022-06-13 01:34:00      E13        Non-Fatal   \n",
       "1661      222045881  2022-06-21 18:34:00       B3        Non-Fatal   \n",
       "1662      222046251  2022-06-22 22:45:00       B2        Non-Fatal   \n",
       "\n",
       "     Victim_Gender                Victim_Race  Victim_Ethnicity_NIBRS  \\\n",
       "0             Male  Black or African American  Not Hispanic or Latinx   \n",
       "1             Male  Black or African American  Not Hispanic or Latinx   \n",
       "2             Male  Black or African American  Not Hispanic or Latinx   \n",
       "3             Male  Black or African American  Not Hispanic or Latinx   \n",
       "4           Female  Black or African American  Not Hispanic or Latinx   \n",
       "...            ...                        ...                     ...   \n",
       "1658          Male  Black or African American  Not Hispanic or Latinx   \n",
       "1659          Male  Black or African American                 Unknown   \n",
       "1660          Male                      White      Hispanic or Latinx   \n",
       "1661          Male  Black or African American  Not Hispanic or Latinx   \n",
       "1662          Male                      White      Hispanic or Latinx   \n",
       "\n",
       "     Multi_Victim  \n",
       "0               f  \n",
       "1               f  \n",
       "2               f  \n",
       "3               t  \n",
       "4               t  \n",
       "...           ...  \n",
       "1658            f  \n",
       "1659            f  \n",
       "1660            f  \n",
       "1661            f  \n",
       "1662            f  \n",
       "\n",
       "[1663 rows x 8 columns]"
      ]
     },
     "execution_count": 195,
     "metadata": {},
     "output_type": "execute_result"
    }
   ],
   "source": [
    "# Load car loan data from a csv file\n",
    "# Dataset source: https://data.boston.gov/dataset/shootings\n",
    "filename = 'data/boston_shooting.csv'\n",
    "df = pd.read_csv(filename)\n",
    "df"
   ]
  },
  {
   "cell_type": "code",
   "execution_count": 196,
   "id": "4554c2a6",
   "metadata": {},
   "outputs": [
    {
     "name": "stdout",
     "output_type": "stream",
     "text": [
      "<class 'pandas.core.frame.DataFrame'>\n",
      "RangeIndex: 1663 entries, 0 to 1662\n",
      "Data columns (total 8 columns):\n",
      " #   Column                  Non-Null Count  Dtype \n",
      "---  ------                  --------------  ----- \n",
      " 0   Incident_Num            1663 non-null   object\n",
      " 1   Shooting_Date           1663 non-null   object\n",
      " 2   District                1663 non-null   object\n",
      " 3   Shooting_Type_V2        1663 non-null   object\n",
      " 4   Victim_Gender           1656 non-null   object\n",
      " 5   Victim_Race             1649 non-null   object\n",
      " 6   Victim_Ethnicity_NIBRS  1639 non-null   object\n",
      " 7   Multi_Victim            1663 non-null   object\n",
      "dtypes: object(8)\n",
      "memory usage: 104.1+ KB\n"
     ]
    }
   ],
   "source": [
    "df.info()"
   ]
  },
  {
   "cell_type": "markdown",
   "id": "e1fe1f7f",
   "metadata": {},
   "source": [
    "## Clean data\n",
    "Take incident no, date, gender and race and remove the rows with null values"
   ]
  },
  {
   "cell_type": "code",
   "execution_count": 197,
   "id": "d1751015",
   "metadata": {},
   "outputs": [
    {
     "name": "stdout",
     "output_type": "stream",
     "text": [
      "<class 'pandas.core.frame.DataFrame'>\n",
      "RangeIndex: 1663 entries, 0 to 1662\n",
      "Data columns (total 7 columns):\n",
      " #   Column            Non-Null Count  Dtype \n",
      "---  ------            --------------  ----- \n",
      " 0   Incident_Num      1663 non-null   object\n",
      " 1   Shooting_Date     1663 non-null   object\n",
      " 2   District          1663 non-null   object\n",
      " 3   Shooting_Type_V2  1663 non-null   object\n",
      " 4   Victim_Gender     1656 non-null   object\n",
      " 5   Victim_Race       1649 non-null   object\n",
      " 6   Multi_Victim      1663 non-null   object\n",
      "dtypes: object(7)\n",
      "memory usage: 91.1+ KB\n"
     ]
    }
   ],
   "source": [
    "df. drop('Victim_Ethnicity_NIBRS', axis=1, inplace=True)\n",
    "df.info()"
   ]
  },
  {
   "cell_type": "code",
   "execution_count": 198,
   "id": "b28e4a34",
   "metadata": {},
   "outputs": [],
   "source": [
    "# Get all the gender and race missing cols\n",
    "victim_gender_missing = df.Victim_Gender.isna()\n",
    "victim_race_missing = df.Victim_Race.isna()"
   ]
  },
  {
   "cell_type": "code",
   "execution_count": 199,
   "id": "e000d4d5",
   "metadata": {},
   "outputs": [
    {
     "name": "stdout",
     "output_type": "stream",
     "text": [
      "<class 'pandas.core.frame.DataFrame'>\n",
      "Int64Index: 1646 entries, 0 to 1662\n",
      "Data columns (total 7 columns):\n",
      " #   Column            Non-Null Count  Dtype \n",
      "---  ------            --------------  ----- \n",
      " 0   Incident_Num      1646 non-null   object\n",
      " 1   Shooting_Date     1646 non-null   object\n",
      " 2   District          1646 non-null   object\n",
      " 3   Shooting_Type_V2  1646 non-null   object\n",
      " 4   Victim_Gender     1646 non-null   object\n",
      " 5   Victim_Race       1646 non-null   object\n",
      " 6   Multi_Victim      1646 non-null   object\n",
      "dtypes: object(7)\n",
      "memory usage: 102.9+ KB\n"
     ]
    }
   ],
   "source": [
    "# Remove all the gender and race missing cols from the DF\n",
    "df = df.loc[~victim_gender_missing,:]\n",
    "df = df.loc[~victim_race_missing,:]\n",
    "df.info()"
   ]
  },
  {
   "cell_type": "markdown",
   "id": "628d0d76",
   "metadata": {},
   "source": [
    "## Sub dataframing"
   ]
  },
  {
   "cell_type": "code",
   "execution_count": 200,
   "id": "a173e6e6",
   "metadata": {},
   "outputs": [
    {
     "name": "stdout",
     "output_type": "stream",
     "text": [
      "<class 'pandas.core.frame.DataFrame'>\n",
      "Int64Index: 1646 entries, 0 to 1662\n",
      "Data columns (total 4 columns):\n",
      " #   Column           Non-Null Count  Dtype \n",
      "---  ------           --------------  ----- \n",
      " 0   Incident Number  1646 non-null   object\n",
      " 1   Year             1646 non-null   object\n",
      " 2   Victim Gender    1646 non-null   object\n",
      " 3   Victim Race      1646 non-null   object\n",
      "dtypes: object(4)\n",
      "memory usage: 64.3+ KB\n"
     ]
    }
   ],
   "source": [
    "# Using DataFrame.loc[] create new DataFrame by specific column.\n",
    "gender_based_df = df.loc[:, df.columns.drop(['District', 'Shooting_Type_V2', 'Multi_Victim'])]\n",
    "gender_based_df = gender_based_df.rename(columns={\n",
    "  'Incident_Num': 'Incident Number',\n",
    "  'Shooting_Date': 'Year',\n",
    "  'Victim_Gender': 'Victim Gender',\n",
    "  'Victim_Race': 'Victim Race'\n",
    "})\n",
    "gender_based_df.info()"
   ]
  },
  {
   "cell_type": "code",
   "execution_count": 201,
   "id": "0fc3aab5",
   "metadata": {},
   "outputs": [
    {
     "name": "stdout",
     "output_type": "stream",
     "text": [
      "<class 'pandas.core.frame.DataFrame'>\n",
      "Int64Index: 1646 entries, 0 to 1662\n",
      "Data columns (total 7 columns):\n",
      " #   Column            Non-Null Count  Dtype \n",
      "---  ------            --------------  ----- \n",
      " 0   Incident_Num      1646 non-null   object\n",
      " 1   Shooting_Date     1646 non-null   object\n",
      " 2   District          1646 non-null   object\n",
      " 3   Shooting_Type_V2  1646 non-null   object\n",
      " 4   Victim_Gender     1646 non-null   object\n",
      " 5   Victim_Race       1646 non-null   object\n",
      " 6   Multi_Victim      1646 non-null   object\n",
      "dtypes: object(7)\n",
      "memory usage: 102.9+ KB\n"
     ]
    }
   ],
   "source": [
    "df.info()"
   ]
  },
  {
   "cell_type": "code",
   "execution_count": 202,
   "id": "9f418719",
   "metadata": {},
   "outputs": [
    {
     "data": {
      "text/plain": [
       "Incident Number    0\n",
       "Year               0\n",
       "Victim Gender      0\n",
       "Victim Race        0\n",
       "dtype: int64"
      ]
     },
     "execution_count": 202,
     "metadata": {},
     "output_type": "execute_result"
    }
   ],
   "source": [
    "gender_based_df.isna().sum()"
   ]
  },
  {
   "cell_type": "markdown",
   "id": "ff30552a",
   "metadata": {},
   "source": [
    "### Clone the dataframe in multiple sub-dfs to perform various visualizations \n",
    "Here we will change the date to year only"
   ]
  },
  {
   "cell_type": "code",
   "execution_count": 203,
   "id": "8cb8352a",
   "metadata": {},
   "outputs": [
    {
     "name": "stdout",
     "output_type": "stream",
     "text": [
      "     Incident Number  Year Victim Gender                Victim Race\n",
      "0      I152000196-00  2015          Male  Black or African American\n",
      "1      I152000879-00  2015          Male  Black or African American\n",
      "2      I152001014-00  2015          Male  Black or African American\n",
      "3      I152002232-00  2015          Male  Black or African American\n",
      "4      I152002233-00  2015        Female  Black or African American\n",
      "...              ...   ...           ...                        ...\n",
      "1658       222043221  2022          Male  Black or African American\n",
      "1659       222042669  2022          Male  Black or African American\n",
      "1660       222043262  2022          Male                      White\n",
      "1661       222045881  2022          Male  Black or African American\n",
      "1662       222046251  2022          Male                      White\n",
      "\n",
      "[1646 rows x 4 columns]\n"
     ]
    }
   ],
   "source": [
    "# print(gender_based_df['Year'].dtypes)\n",
    "gender_based_df['Year'] = gender_based_df['Year'].str[:4]\n",
    "print(gender_based_df)"
   ]
  },
  {
   "cell_type": "code",
   "execution_count": 208,
   "id": "16c37ff6",
   "metadata": {},
   "outputs": [
    {
     "name": "stdout",
     "output_type": "stream",
     "text": [
      "Original Races List ['Black or African American' 'White' 'Unknown' 'Asian']\n",
      "['2015' '2016' '2017' '2018' '2019' '2020' '2021' '2022']\n",
      "[[  1 207   1  36]\n",
      " [  1 171  14  40]\n",
      " [  2 210   1  47]\n",
      " [  0 165   4  34]\n",
      " [  2 148   9  32]\n",
      " [  0 217  18  39]\n",
      " [  0 152   9  21]\n",
      " [  1  42   5  17]]\n"
     ]
    }
   ],
   "source": [
    "# Get the list of victim races in the dataframe\n",
    "victim_races = gender_based_df['Victim Race'].unique()\n",
    "print('Original Races List', victim_races)\n",
    "# Get the list of years in the dataframe\n",
    "years = gender_based_df['Year'].unique()\n",
    "# years = years.astype(int)\n",
    "print(years)\n",
    "# Get the counts of all the race types in the DF\n",
    "gender_based_df['Victim Race'].value_counts()\n",
    "# data = pd.DataFrame(data, columns=['Year', 'Black or African American', 'White', 'Asian', 'Unknown'])\n",
    "\n",
    "# Flag for creating an array for the first iteration\n",
    "flag = 1\n",
    "\n",
    "for i, year in enumerate(years):\n",
    "  get_yearly_data = gender_based_df[gender_based_df['Year'] == year].value_counts('Victim Race', sort=False)\n",
    "  races = get_yearly_data.index.tolist()\n",
    "  values = get_yearly_data.tolist()\n",
    "  missing_race = set(victim_races).difference(races)\n",
    "  # print('--- Before Race list: ', races)\n",
    "  # print('--- Before Victim count: ', values)\n",
    "  count_of_missing_races = len(missing_race)\n",
    "  if (count_of_missing_races>0):\n",
    "    missing_race =  missing_race.pop()\n",
    "    races.insert(0, missing_race)\n",
    "    values.insert(0, 0)\n",
    "    # print('+++ After Race list: ', races)\n",
    "    # print('+++ After Victim count: ', values)\n",
    "\n",
    "  # Insert the year in the 0th location for the histogram\n",
    "  # values.insert(0, int(year))\n",
    "\n",
    "  if (flag):\n",
    "    flag = 0\n",
    "    data = np.array([values])\n",
    "  else:\n",
    "    data = np.append(data, [values], axis=0)\n",
    "\n",
    "  \n",
    "\n",
    "print(data)"
   ]
  },
  {
   "cell_type": "code",
   "execution_count": 255,
   "id": "59fe2849",
   "metadata": {},
   "outputs": [
    {
     "data": {
      "image/png": "[encoded data removed]",
      "text/plain": [
       "<Figure size 432x288 with 1 Axes>"
      ]
     },
     "metadata": {
      "needs_background": "light"
     },
     "output_type": "display_data"
    }
   ],
   "source": [
    "# Create a new DF for bar chart\n",
    "# data = [gender_based_df['Year'].unique()]\n",
    "gender_based_df = pd.DataFrame(data, years, columns=['Asian', 'Black or African American', 'White', 'Unknown'])\n",
    "gender_based_df.plot.bar()\n",
    "plt.title('Racial comparison of shootings in Boston from 2015')\n",
    "plt.xlabel(\"Years\", labelpad=10)\n",
    "plt.ylabel(\"Number of shootings in Boston\", labelpad=10)\n",
    "plt.legend(loc=(1.02, .7))\n",
    "plt.savefig('racial_comparison_of_shootings_in_boston.png', bbox_inches='tight', dpi=300)\n",
    "plt.show()"
   ]
  },
  {
   "cell_type": "code",
   "execution_count": null,
   "id": "e864e478",
   "metadata": {},
   "outputs": [],
   "source": []
  }
 ],
 "metadata": {
  "kernelspec": {
   "display_name": "Python 3.9.12 ('base')",
   "language": "python",
   "name": "python3"
  },
  "language_info": {
   "codemirror_mode": {
    "name": "ipython",
    "version": 3
   },
   "file_extension": ".py",
   "mimetype": "text/x-python",
   "name": "python",
   "nbconvert_exporter": "python",
   "pygments_lexer": "ipython3",
   "version": "3.9.12"
  },
  "vscode": {
   "interpreter": {
    "hash": "7acac586259c81cca19d7392e3613f911a9f2b53a5d29e0ea3fbae26c5781b56"
   }
  }
 },
 "nbformat": 4,
 "nbformat_minor": 5
}
